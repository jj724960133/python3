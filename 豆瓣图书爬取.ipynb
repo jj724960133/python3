{
 "cells": [
  {
   "cell_type": "markdown",
   "metadata": {},
   "source": [
    "# 豆瓣哲学类书目爬取"
   ]
  },
  {
   "cell_type": "code",
   "execution_count": 20,
   "metadata": {},
   "outputs": [],
   "source": [
    "import requests as re \n",
    "from bs4 import BeautifulSoup  as bs\n",
    "import pandas as pd"
   ]
  },
  {
   "cell_type": "code",
   "execution_count": 33,
   "metadata": {
    "scrolled": true
   },
   "outputs": [
    {
     "data": {
      "text/html": [
       "<div>\n",
       "<style scoped>\n",
       "    .dataframe tbody tr th:only-of-type {\n",
       "        vertical-align: middle;\n",
       "    }\n",
       "\n",
       "    .dataframe tbody tr th {\n",
       "        vertical-align: top;\n",
       "    }\n",
       "\n",
       "    .dataframe thead th {\n",
       "        text-align: right;\n",
       "    }\n",
       "</style>\n",
       "<table border=\"1\" class=\"dataframe\">\n",
       "  <thead>\n",
       "    <tr style=\"text-align: right;\">\n",
       "      <th></th>\n",
       "    </tr>\n",
       "  </thead>\n",
       "  <tbody>\n",
       "  </tbody>\n",
       "</table>\n",
       "</div>"
      ],
      "text/plain": [
       "Empty DataFrame\n",
       "Columns: []\n",
       "Index: []"
      ]
     },
     "execution_count": 33,
     "metadata": {},
     "output_type": "execute_result"
    }
   ],
   "source": [
    "book_data = pd.DataFrame()\n",
    "#声明一个存储书名的list\n",
    "book_list = []\n",
    "#声明一个存储评分的list\n",
    "num_list = []\n",
    "#解析网页\n",
    "urls = ['https://book.douban.com/tag/%E5%93%B2%E5%AD%A6?start={}&type=T'.format(str(i)) for i in range(0,100,20)]\n",
    "def get_titles (urls):\n",
    "    page=re.get(urls)\n",
    "    bf_page=bs(page.content,'html.parser')\n",
    "    #爬取书名\n",
    "    name =bf_page.find_all('h2')\n",
    "    #爬取评分\n",
    "    num =bf_page.find_all(class_=('rating_nums'))\n",
    "    a = 0\n",
    "    for i in name:\n",
    "        book_name = i.text\n",
    "        t = book_name.split()\n",
    "        book_name3 = \"\".join(t) \n",
    "        book_list.append(book_name3)\n",
    "        a=a+1\n",
    "        if a>19:\n",
    "            break\n",
    "\n",
    "    for i in num: \n",
    "        book_num=i.text\n",
    "        t=book_num.split()\n",
    "        book_num2=\"\".join(t) \n",
    "        num_list.append(book_num2)\n",
    "    #字典添加\n",
    "    book_dict={'书名':book_list,'评分':num_list}\n",
    "    book_data = pd.DataFrame(book_dict)\n",
    "for i in urls:\n",
    "    get_titles(i)\n",
    "book_data"
   ]
  },
  {
   "cell_type": "code",
   "execution_count": null,
   "metadata": {},
   "outputs": [],
   "source": [
    "'''\n",
    "book_data = pd.DataFrame()\n",
    "#声明一个存储书名的list\n",
    "book_list = []\n",
    "#声明一个存储评分的list\n",
    "num_list = []\n",
    "#解析网页\n",
    "url = 'https://book.douban.com/tag/%E5%93%B2%E5%AD%A6?start=0&type=T'\n",
    "page=re.get(url)\n",
    "bf_page=bs(page.content,'html.parser')\n",
    "#爬取书名\n",
    "name =bf_page.find_all('h2')\n",
    "#爬取评分\n",
    "num =bf_page.find_all(class_=('rating_nums'))\n",
    "\n",
    "a = 0\n",
    "for i in name:\n",
    "    book_name = i.text\n",
    "    t = book_name.split()\n",
    "    book_name3 = \"\".join(t) \n",
    "    book_list.append(book_name3)\n",
    "    a=a+1\n",
    "    if a>19:\n",
    "        break\n",
    "\n",
    "for i in num: \n",
    "    book_num=i.text\n",
    "    t=book_num.split()\n",
    "    book_num2=\"\".join(t) \n",
    "    num_list.append(book_num2)\n",
    "#字典添加\n",
    "book_dict={'书名':book_list,'评分':num_list}\n",
    "book_data = pd.DataFrame(book_dict)\n",
    "book_data\n",
    "'''"
   ]
  }
 ],
 "metadata": {
  "kernelspec": {
   "display_name": "Python 3",
   "language": "python",
   "name": "python3"
  },
  "language_info": {
   "codemirror_mode": {
    "name": "ipython",
    "version": 3
   },
   "file_extension": ".py",
   "mimetype": "text/x-python",
   "name": "python",
   "nbconvert_exporter": "python",
   "pygments_lexer": "ipython3",
   "version": "3.7.4"
  }
 },
 "nbformat": 4,
 "nbformat_minor": 2
}
