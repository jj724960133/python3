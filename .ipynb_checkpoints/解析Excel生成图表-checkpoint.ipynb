{
 "cells": [
  {
   "cell_type": "code",
   "execution_count": 33,
   "metadata": {
    "scrolled": false
   },
   "outputs": [
    {
     "data": {
      "text/plain": [
       "Text(0.5, 0, '渠道名称')"
      ]
     },
     "execution_count": 33,
     "metadata": {},
     "output_type": "execute_result"
    },
    {
     "data": {
      "image/png": "[encoded data removed]",
      "text/plain": [
       "<Figure size 432x288 with 1 Axes>"
      ]
     },
     "metadata": {
      "needs_background": "light"
     },
     "output_type": "display_data"
    }
   ],
   "source": [
    "import pandas as pd \n",
    "import matplotlib.pyplot as mp\n",
    "mp.rcParams['font.sans-serif'] = ['Microsoft YaHei']\n",
    "#mp.rc('font',family=['Microsoft YaHei'])\n",
    "ex = pd.read_excel('/Users/wangjian/Desktop/现金贷批量外呼第90批-二要素-7.15-5588条.xlsx')\n",
    "ex.columns = ['手机号','渠道名称']\n",
    "data =ex.groupby(['渠道名称']).size()\n",
    "data.plot.bar(x='渠道名称')\n",
    "mp.ylabel('数量')\n",
    "mp.xlabel('渠道名称')\n",
    "#mp.savefig('D:\\\\MyConfiguration\\\\jian.wang\\\\Desktop\\\\新建文件夹')"
   ]
  },
  {
   "cell_type": "code",
   "execution_count": 32,
   "metadata": {},
   "outputs": [
    {
     "name": "stdout",
     "output_type": "stream",
     "text": [
      "d\n"
     ]
    }
   ],
   "source": [
    "import matplotlib\n",
    "matplotlib.matplotlib_fname() #将会获得matplotlib包所在文件夹\n",
    "print('d')"
   ]
  }
 ],
 "metadata": {
  "kernelspec": {
   "display_name": "Python 3",
   "language": "python",
   "name": "python3"
  },
  "language_info": {
   "codemirror_mode": {
    "name": "ipython",
    "version": 3
   },
   "file_extension": ".py",
   "mimetype": "text/x-python",
   "name": "python",
   "nbconvert_exporter": "python",
   "pygments_lexer": "ipython3",
   "version": "3.7.4"
  }
 },
 "nbformat": 4,
 "nbformat_minor": 2
}
